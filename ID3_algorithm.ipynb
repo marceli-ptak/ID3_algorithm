{
 "cells": [
  {
   "cell_type": "markdown",
   "id": "3da42f27",
   "metadata": {},
   "source": [
    "### Binarne drzewo decyzyjne przy użyciu algorytmu ID3 Quinlana - Marceli Ptak\n",
    "Tematem projektu jest stworzenie binarnego drzewa decyzyjnego z wykorzystaniem algorytmu ID3.<br /><br />\n",
    "Problem jaki podejmuję dotyczy dylematu w kwestii zapisu na zajęcia boksu.<br />\n",
    "Stworzone przeze mnie dane dotyczące potencjalnego uczestnika zajęć zawierają takie informacje jak:<br /><br />\n",
    "1. Płeć:<br />\n",
    "kobieta / mężczyzna,<br /><br />\n",
    "2. Wiek:<br />\n",
    "4 przedziały wiekowe: 12-18, 19-28, 29-40 oraz 40+,<br /><br />\n",
    "3. Ile razy chcesz ćwiczyć w tygodniu?:<br />\n",
    "częstotliwość w 3 przedziałach: 0-1, 2-3, 3+,<br /><br />\n",
    "4. Kondycja:<br />\n",
    "3 typy dotyczące aktywności sportowej: amator, medium, pro,<br /><br />\n",
    "4. Podatność na kontuzje:<br />\n",
    "określona w skali 3 stopniowej: duża, średnia oraz mała,<br /><br />\n",
    "Konkluzją jest odpowiedź na pytanie: \"Czy zapisać się na boks?\",<br /> \n",
    "zawiera ona trzy możliwości: Tak, Nie, Raczej nie.<br /><br /> \n",
    "Dane to zbiór 100 ze wszystkich możliwych kombinacji (216) a konkluzja im przydzielana została w sposób arbitralny, choć intuicyjny.<br /><br />\n",
    "Idealnym uczestnikiem zajęć boksu będzie więc młody wysportowany mężczyzna o małej podatności na kontuzje.<br /><br />\n",
    "Osobą, która zaś na zajęciach nie powinna się pojawiać jest starsza kobieta nie uprawiająca na co dzień sportu o dużej podatności na kontuzje."
   ]
  },
  {
   "cell_type": "markdown",
   "id": "e54d4b8e",
   "metadata": {},
   "source": [
    "Importowanie koniecznych bibliotek:"
   ]
  },
  {
   "cell_type": "code",
   "execution_count": 1,
   "id": "a305c615",
   "metadata": {},
   "outputs": [],
   "source": [
    "import pandas as pd\n",
    "import numpy as np"
   ]
  },
  {
   "cell_type": "markdown",
   "id": "e6e79344",
   "metadata": {},
   "source": [
    "Wczytanie danych:<br /><br />\n",
    "Wczytuję dane w formacie oddzielanym przecinkami (.csv) oraz wyświetlam pierwszych 5 rekordów:"
   ]
  },
  {
   "cell_type": "code",
   "execution_count": 2,
   "id": "0fc909a7",
   "metadata": {},
   "outputs": [
    {
     "name": "stdout",
     "output_type": "stream",
     "text": [
      "      Plec   Wiek Ile razy chcesz cwiczyc w tygodniu Kondycja  \\\n",
      "0  Kobieta  12-18                                0-1   amator   \n",
      "1  Kobieta  12-18                                0-1   amator   \n",
      "2  Kobieta  12-18                                0-1   amator   \n",
      "3  Kobieta  12-18                                0-1   medium   \n",
      "4  Kobieta  12-18                                0-1   medium   \n",
      "\n",
      "  Podatnosc na kontuzje Czy zapisac sie na boks?  \n",
      "0                  duza                      Nie  \n",
      "1               srednia                      Nie  \n",
      "2                  mala               Raczej nie  \n",
      "3                  duza                      Nie  \n",
      "4               srednia               Raczej nie  \n"
     ]
    }
   ],
   "source": [
    "dane = pd.read_csv(\"dane.csv\", encoding= 'utf-8-sig')\n",
    "print(dane.head())"
   ]
  },
  {
   "cell_type": "markdown",
   "id": "3fa71a8f",
   "metadata": {},
   "source": [
    "Zdefiniowanie funkcji \"znajdź atrybut\":<br /><br />\n",
    "Funkcja pobiera jako argumenty dane, nazwę kolumny z konkluzją oraz wszyskie (3) jej możliwe wartości (możliwości).<br />\n",
    "Zwraca najlepszą przesłankę spośród przekazanych danych (nazwa kolumny) oraz jej atrybut (wartość danej kolumny).<br /><br />\n",
    "Aby odnaleźć najlepszy atrybut korzystam ze wzoru na entropię (tu funkcja posiłkuje się kolejną o nazwie entropia warunkowa) a następnie obliczam przyrost informacji jako różnicę pomiędzy entropią całkowitą a pojemnością informacyjną danego atrybutu. "
   ]
  },
  {
   "cell_type": "code",
   "execution_count": 3,
   "id": "870273db",
   "metadata": {},
   "outputs": [],
   "source": [
    "def znajdz_atrybut(dane, konkluzja, mozliwosci):\n",
    "    przeslanki = dane.columns.drop(konkluzja)\n",
    "    top_przeslanka = None\n",
    "    top_atrybut = None\n",
    "    top_przyrost_informacji = -1\n",
    "    \n",
    "    for przeslanka in przeslanki:           \n",
    "        atrybuty = dane[przeslanka].unique()\n",
    "        pojemnosc_informacji = 0\n",
    "\n",
    "        for atrybut in atrybuty:\n",
    "            dane_z_atrybutem = dane[dane[przeslanka] == atrybut]\n",
    "            ilosc_rekordow_z_atrybutem = dane_z_atrybutem.shape[0]\n",
    "            ilosc_rekordow = dane.shape[0]\n",
    "            p = ilosc_rekordow_z_atrybutem/ilosc_rekordow\n",
    "            entropia_p = entropia_warunkowa(dane_z_atrybutem, konkluzja, mozliwosci)\n",
    "            pojemnosc_informacji = entropia_p * p\n",
    "            ## Przyrost informacji, czyli o ile dana informacja \"zmniejsza\" entropię\n",
    "            przyrost_informacji = entropia_calkowita(dane, konkluzja, mozliwosci) - pojemnosc_informacji\n",
    "            if  top_przyrost_informacji < przyrost_informacji:\n",
    "                top_przeslanka = przeslanka\n",
    "                top_atrybut = atrybut\n",
    "                top_przyrost_informacji = przyrost_informacji\n",
    "    return top_przeslanka, top_atrybut"
   ]
  },
  {
   "cell_type": "markdown",
   "id": "d85b62f2",
   "metadata": {},
   "source": [
    "Zdefiniowanie funkcji \"entropia całkowita\":<br /><br />\n",
    "Aby móc obliczyć przyrost informacji potrzebuję informacji o entropii całego zbioru.<br />\n",
    "Jest to miara nieokreśloności (nieporządku) w zbiorze danych.<br />\n",
    "Wzór z którego korzystam do obliczenia entropii to: I = SUMA(-plog2*p), gdzie p to prawdopodobieństwo wystapienia stanu.<br />\n",
    "W przypadku binarnego drzewa decyzyjnego entropia określa ilość informacji potrzebnej do wyjaśnienia podziałów w drzewie."
   ]
  },
  {
   "cell_type": "code",
   "execution_count": 4,
   "id": "9967a949",
   "metadata": {},
   "outputs": [],
   "source": [
    "def entropia_calkowita(dane, konkluzja, mozliwosci):\n",
    "    entropia_calkowita = 0\n",
    "    \n",
    "    for i in mozliwosci:\n",
    "        liczba_przykladow = dane[dane[konkluzja] == i].shape[0]\n",
    "        n = dane.shape[0]\n",
    "        x = liczba_przykladow/n\n",
    "        entropia_i = entropia_i = -x * np.log2(x)\n",
    "        entropia_calkowita = entropia_calkowita + entropia_i\n",
    "        \n",
    "    return entropia_calkowita"
   ]
  },
  {
   "cell_type": "markdown",
   "id": "b9de0a31",
   "metadata": {},
   "source": [
    "Zdefiniowanie funkcji \"entropia warunkowa\":<br /><br />\n",
    "Analogicznie do entropii całkowitej obliczam entropię warunkową.<br />\n",
    "Różnicą tych funkcji jest fakt, że entropia warunkowa pobiera dane z określonym atrybutem."
   ]
  },
  {
   "cell_type": "code",
   "execution_count": 5,
   "id": "e61fe1f1",
   "metadata": {},
   "outputs": [],
   "source": [
    "def entropia_warunkowa(dane_z_atrybutem, konkluzja, mozliwosci):\n",
    "    entropia = 0\n",
    "    for i in mozliwosci:\n",
    "        liczba_przykladow = dane_z_atrybutem[dane_z_atrybutem[konkluzja] == i].shape[0]\n",
    "        entropia_i = 0\n",
    "        if liczba_przykladow != 0:\n",
    "            ## Wzór na entropię: I = SUMA(-plog2*p)\n",
    "            n = dane_z_atrybutem.shape[0]\n",
    "            x = liczba_przykladow/n\n",
    "            entropia_i = -x * np.log2(x)\n",
    "    entropia = entropia + entropia_i\n",
    "    return entropia"
   ]
  },
  {
   "cell_type": "markdown",
   "id": "c9674a10",
   "metadata": {},
   "source": [
    "Zdefiniowanie funkcji \"podziału\":<br /><br />\n",
    "Funkcja podziału pobiera dane a następnie zwraca najlepszy atrybut oraz podzielone dane.<br />\n",
    "Atrybut jest zwracany wraz z przesłanką do której należy,<br />\n",
    "a dane dzielone są na zawierające atrybut oraz nie. "
   ]
  },
  {
   "cell_type": "code",
   "execution_count": 6,
   "id": "00e5846b",
   "metadata": {},
   "outputs": [],
   "source": [
    "def podzial(dane):\n",
    "    mozliwosci = dane[\"Czy zapisac sie na boks?\"].unique()\n",
    "    przeslanka, atrybut = znajdz_atrybut(dane, \"Czy zapisac sie na boks?\", mozliwosci)\n",
    "    if (przeslanka is not None) and (atrybut is not None) :\n",
    "        pytanie = przeslanka +\", \"+ atrybut\n",
    "        \n",
    "        dane1 = dane[dane[przeslanka] == atrybut]\n",
    "        mozliwosci1 = dane1[\"Czy zapisac sie na boks?\"].unique()\n",
    "        if mozliwosci1.size < 1 :\n",
    "            odpowiedz1 = \"Czy zapisać się na boks?\" + \", \" + mozliwosci\n",
    "            dane1 = odpowiedz1\n",
    "       \n",
    "        dane2 = dane[dane[przeslanka] != atrybut]\n",
    "        mozliwosci2 = dane2[\"Czy zapisac sie na boks?\"].unique()\n",
    "        if mozliwosci2.size < 1 :\n",
    "            odpowiedz2 = \"Czy zapisać się na boks?\" + \", \" + mozliwosci\n",
    "            dane2 = odpowiedz2\n",
    "            \n",
    "    return pytanie, dane1, dane2"
   ]
  },
  {
   "cell_type": "code",
   "execution_count": 7,
   "id": "1ed7c497",
   "metadata": {},
   "outputs": [
    {
     "name": "stdout",
     "output_type": "stream",
     "text": [
      "Podatnosc na kontuzje, duza\n",
      "       Plec   Wiek Ile razy chcesz cwiczyc w tygodniu Kondycja  \\\n",
      "0   Kobieta  12-18                                0-1   amator   \n",
      "3   Kobieta  12-18                                0-1   medium   \n",
      "6   Kobieta  12-18                                0-1      pro   \n",
      "9   Kobieta  12-18                                2-3   amator   \n",
      "12  Kobieta  12-18                                2-3   medium   \n",
      "\n",
      "   Podatnosc na kontuzje Czy zapisac sie na boks?  \n",
      "0                   duza                      Nie  \n",
      "3                   duza                      Nie  \n",
      "6                   duza                      Nie  \n",
      "9                   duza                      Nie  \n",
      "12                  duza                      Nie  \n",
      "      Plec   Wiek Ile razy chcesz cwiczyc w tygodniu Kondycja  \\\n",
      "1  Kobieta  12-18                                0-1   amator   \n",
      "2  Kobieta  12-18                                0-1   amator   \n",
      "4  Kobieta  12-18                                0-1   medium   \n",
      "5  Kobieta  12-18                                0-1   medium   \n",
      "7  Kobieta  12-18                                0-1      pro   \n",
      "\n",
      "  Podatnosc na kontuzje Czy zapisac sie na boks?  \n",
      "1               srednia                      Nie  \n",
      "2                  mala               Raczej nie  \n",
      "4               srednia               Raczej nie  \n",
      "5                  mala               Raczej nie  \n",
      "7               srednia               Raczej nie  \n"
     ]
    }
   ],
   "source": [
    "pytanie1, dane1, dane2 = podzial(dane)\n",
    "print(pytanie1)\n",
    "print(dane1.head())\n",
    "print(dane2.head())"
   ]
  },
  {
   "cell_type": "markdown",
   "id": "0a6db88c",
   "metadata": {},
   "source": [
    "Pytanie, które przyniesie największe korzyści (najbardziej zmniejszy entropię) to to, czy potencjalny uczestnik ma dużą podatność na kontuzję."
   ]
  }
 ],
 "metadata": {
  "kernelspec": {
   "display_name": "Python 3 (ipykernel)",
   "language": "python",
   "name": "python3"
  },
  "language_info": {
   "codemirror_mode": {
    "name": "ipython",
    "version": 3
   },
   "file_extension": ".py",
   "mimetype": "text/x-python",
   "name": "python",
   "nbconvert_exporter": "python",
   "pygments_lexer": "ipython3",
   "version": "3.9.13"
  }
 },
 "nbformat": 4,
 "nbformat_minor": 5
}
